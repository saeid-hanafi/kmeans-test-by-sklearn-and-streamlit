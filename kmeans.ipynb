{
 "cells": [
  {
   "cell_type": "code",
   "execution_count": 27,
   "metadata": {
    "collapsed": true,
    "ExecuteTime": {
     "end_time": "2023-06-30T13:27:50.820991500Z",
     "start_time": "2023-06-30T13:27:50.777835500Z"
    }
   },
   "outputs": [],
   "source": [
    "from sklearn.datasets import load_iris\n",
    "from sklearn.metrics import davies_bouldin_score\n",
    "from sklearn.cluster import KMeans\n",
    "from sklearn.model_selection import train_test_split\n",
    "import matplotlib.pyplot as plt\n",
    "import joblib as jl"
   ]
  },
  {
   "cell_type": "code",
   "execution_count": 28,
   "outputs": [],
   "source": [
    "X = load_iris().data\n",
    "Y = load_iris().target\n",
    "\n",
    "xtrain, xtest, ytrain, ytest = train_test_split(X, Y, test_size=0.3, random_state=40)"
   ],
   "metadata": {
    "collapsed": false,
    "ExecuteTime": {
     "end_time": "2023-06-30T13:27:50.868179600Z",
     "start_time": "2023-06-30T13:27:50.777835500Z"
    }
   }
  },
  {
   "cell_type": "code",
   "execution_count": 29,
   "outputs": [
    {
     "data": {
      "text/plain": "['sepal length (cm)',\n 'sepal width (cm)',\n 'petal length (cm)',\n 'petal width (cm)']"
     },
     "execution_count": 29,
     "metadata": {},
     "output_type": "execute_result"
    }
   ],
   "source": [
    "load_iris().feature_names"
   ],
   "metadata": {
    "collapsed": false,
    "ExecuteTime": {
     "end_time": "2023-06-30T13:27:50.868179600Z",
     "start_time": "2023-06-30T13:27:50.792252900Z"
    }
   }
  },
  {
   "cell_type": "code",
   "execution_count": 30,
   "outputs": [
    {
     "data": {
      "text/plain": "array(['setosa', 'versicolor', 'virginica'], dtype='<U10')"
     },
     "execution_count": 30,
     "metadata": {},
     "output_type": "execute_result"
    }
   ],
   "source": [
    "load_iris().target_names"
   ],
   "metadata": {
    "collapsed": false,
    "ExecuteTime": {
     "end_time": "2023-06-30T13:27:50.868179600Z",
     "start_time": "2023-06-30T13:27:50.820991500Z"
    }
   }
  },
  {
   "cell_type": "code",
   "execution_count": 31,
   "outputs": [
    {
     "name": "stderr",
     "output_type": "stream",
     "text": [
      "C:\\saeedHanafi\\My-Projects\\kmeans\\venv\\Lib\\site-packages\\sklearn\\cluster\\_kmeans.py:870: FutureWarning: The default value of `n_init` will change from 10 to 'auto' in 1.4. Set the value of `n_init` explicitly to suppress the warning\n",
      "  warnings.warn(\n"
     ]
    }
   ],
   "source": [
    "kmeans_model = KMeans(n_clusters=3, random_state=40).fit(xtrain)"
   ],
   "metadata": {
    "collapsed": false,
    "ExecuteTime": {
     "end_time": "2023-06-30T13:27:50.868179600Z",
     "start_time": "2023-06-30T13:27:50.820991500Z"
    }
   }
  },
  {
   "cell_type": "code",
   "execution_count": 32,
   "outputs": [
    {
     "data": {
      "text/plain": "array([0, 1, 2, 2, 0, 1, 2, 2, 2, 0, 0, 2, 2, 1, 2, 0, 1, 2, 0, 1, 0, 0,\n       1, 0, 1, 1, 0, 1, 2, 0, 0, 1, 0, 1, 2, 1, 2, 1, 2, 1, 0, 2, 2, 1,\n       0, 0, 0, 1, 2, 2, 0, 2, 1, 1, 2, 2, 2, 2, 2, 0, 2, 2, 1, 2, 1, 0,\n       1, 1, 2, 2, 0, 1, 2, 0, 2, 2, 0, 0, 2, 2, 0, 0, 2, 0, 1, 2, 1, 0,\n       1, 2, 0, 0, 1, 0, 2, 2, 2, 2, 0, 2, 2, 0, 1, 0, 2])"
     },
     "execution_count": 32,
     "metadata": {},
     "output_type": "execute_result"
    }
   ],
   "source": [
    "labels = kmeans_model.labels_\n",
    "labels"
   ],
   "metadata": {
    "collapsed": false,
    "ExecuteTime": {
     "end_time": "2023-06-30T13:27:50.868179600Z",
     "start_time": "2023-06-30T13:27:50.841931Z"
    }
   }
  },
  {
   "cell_type": "code",
   "execution_count": 33,
   "outputs": [
    {
     "data": {
      "text/plain": "array([0, 2, 2, 1, 0, 2, 1, 1, 1, 0, 0, 1, 1, 2, 2, 0, 2, 1, 0, 2, 0, 0,\n       2, 0, 2, 2, 0, 2, 1, 0, 0, 2, 0, 2, 2, 1, 1, 2, 1, 2, 0, 2, 1, 1,\n       0, 0, 0, 2, 2, 1, 0, 1, 2, 2, 1, 2, 2, 1, 1, 0, 1, 1, 2, 1, 2, 0,\n       2, 2, 1, 1, 0, 2, 1, 0, 1, 2, 0, 0, 2, 1, 0, 0, 1, 0, 2, 1, 2, 0,\n       2, 1, 0, 0, 2, 0, 1, 1, 1, 1, 0, 2, 1, 0, 1, 0, 1])"
     },
     "execution_count": 33,
     "metadata": {},
     "output_type": "execute_result"
    }
   ],
   "source": [
    "ytrain"
   ],
   "metadata": {
    "collapsed": false,
    "ExecuteTime": {
     "end_time": "2023-06-30T13:27:50.868179600Z",
     "start_time": "2023-06-30T13:27:50.847926300Z"
    }
   }
  },
  {
   "cell_type": "code",
   "execution_count": 34,
   "outputs": [
    {
     "data": {
      "text/plain": "<matplotlib.collections.PathCollection at 0x289554bca50>"
     },
     "execution_count": 34,
     "metadata": {},
     "output_type": "execute_result"
    },
    {
     "data": {
      "text/plain": "<Figure size 640x480 with 1 Axes>",
      "image/png": "[encoded data removed]"
     },
     "metadata": {},
     "output_type": "display_data"
    }
   ],
   "source": [
    "plt.scatter(labels, ytrain, color=\"red\")"
   ],
   "metadata": {
    "collapsed": false,
    "ExecuteTime": {
     "end_time": "2023-06-30T13:27:51.016972100Z",
     "start_time": "2023-06-30T13:27:50.854171Z"
    }
   }
  },
  {
   "cell_type": "code",
   "execution_count": 35,
   "outputs": [
    {
     "data": {
      "text/plain": "0.6960463661104145"
     },
     "execution_count": 35,
     "metadata": {},
     "output_type": "execute_result"
    }
   ],
   "source": [
    "davies_bouldin_score(xtrain, labels)"
   ],
   "metadata": {
    "collapsed": false,
    "ExecuteTime": {
     "end_time": "2023-06-30T13:27:51.023731400Z",
     "start_time": "2023-06-30T13:27:51.016972100Z"
    }
   }
  },
  {
   "cell_type": "code",
   "execution_count": 36,
   "outputs": [
    {
     "name": "stderr",
     "output_type": "stream",
     "text": [
      "C:\\saeedHanafi\\My-Projects\\kmeans\\venv\\Lib\\site-packages\\sklearn\\cluster\\_kmeans.py:870: FutureWarning: The default value of `n_init` will change from 10 to 'auto' in 1.4. Set the value of `n_init` explicitly to suppress the warning\n",
      "  warnings.warn(\n"
     ]
    }
   ],
   "source": [
    "kmeans_model2 = KMeans(n_clusters=3, random_state=43).fit(xtest)"
   ],
   "metadata": {
    "collapsed": false,
    "ExecuteTime": {
     "end_time": "2023-06-30T13:27:51.048345Z",
     "start_time": "2023-06-30T13:27:51.023731400Z"
    }
   }
  },
  {
   "cell_type": "code",
   "execution_count": 37,
   "outputs": [
    {
     "data": {
      "text/plain": "array([1, 0, 2, 2, 0, 2, 0, 0, 0, 1, 0, 1, 1, 0, 0, 2, 0, 2, 0, 0, 2, 2,\n       0, 1, 0, 1, 1, 2, 1, 0, 0, 1, 1, 1, 1, 2, 1, 1, 0, 1, 1, 0, 0, 2,\n       2])"
     },
     "execution_count": 37,
     "metadata": {},
     "output_type": "execute_result"
    }
   ],
   "source": [
    "labels2 = kmeans_model2.labels_\n",
    "labels2"
   ],
   "metadata": {
    "collapsed": false,
    "ExecuteTime": {
     "end_time": "2023-06-30T13:27:51.115662300Z",
     "start_time": "2023-06-30T13:27:51.048345Z"
    }
   }
  },
  {
   "cell_type": "code",
   "execution_count": 38,
   "outputs": [
    {
     "data": {
      "text/plain": "array([0, 1, 2, 2, 1, 2, 1, 1, 1, 0, 1, 0, 0, 2, 1, 2, 2, 2, 1, 1, 2, 2,\n       1, 0, 1, 0, 0, 2, 0, 1, 1, 0, 0, 0, 0, 2, 0, 0, 2, 0, 0, 1, 2, 2,\n       2])"
     },
     "execution_count": 38,
     "metadata": {},
     "output_type": "execute_result"
    }
   ],
   "source": [
    "ytest"
   ],
   "metadata": {
    "collapsed": false,
    "ExecuteTime": {
     "end_time": "2023-06-30T13:27:51.115662300Z",
     "start_time": "2023-06-30T13:27:51.053857300Z"
    }
   }
  },
  {
   "cell_type": "code",
   "execution_count": 39,
   "outputs": [
    {
     "data": {
      "text/plain": "0.5794589863901427"
     },
     "execution_count": 39,
     "metadata": {},
     "output_type": "execute_result"
    }
   ],
   "source": [
    "davies_bouldin_score(xtest, labels2)"
   ],
   "metadata": {
    "collapsed": false,
    "ExecuteTime": {
     "end_time": "2023-06-30T13:27:51.115662300Z",
     "start_time": "2023-06-30T13:27:51.059641700Z"
    }
   }
  },
  {
   "cell_type": "code",
   "execution_count": 40,
   "outputs": [
    {
     "data": {
      "text/plain": "<matplotlib.collections.PathCollection at 0x289557407d0>"
     },
     "execution_count": 40,
     "metadata": {},
     "output_type": "execute_result"
    },
    {
     "data": {
      "text/plain": "<Figure size 640x480 with 1 Axes>",
      "image/png": "[encoded data removed]"
     },
     "metadata": {},
     "output_type": "display_data"
    }
   ],
   "source": [
    "plt.scatter(xtrain[:, 2], xtrain[:, 3], color=\"green\")"
   ],
   "metadata": {
    "collapsed": false,
    "ExecuteTime": {
     "end_time": "2023-06-30T13:27:51.201947300Z",
     "start_time": "2023-06-30T13:27:51.068794900Z"
    }
   }
  },
  {
   "cell_type": "code",
   "execution_count": 41,
   "outputs": [
    {
     "data": {
      "text/plain": "array([0, 2, 1, 1, 2, 1, 2, 2, 2, 0, 2, 0, 0, 2, 2, 1, 2, 1, 2, 2, 1, 1,\n       2, 0, 2, 0, 0, 1, 0, 2, 2, 0, 0, 0, 0, 1, 0, 0, 2, 0, 0, 2, 2, 1,\n       1])"
     },
     "execution_count": 41,
     "metadata": {},
     "output_type": "execute_result"
    }
   ],
   "source": [
    "kmeans_model.predict(xtest)"
   ],
   "metadata": {
    "collapsed": false,
    "ExecuteTime": {
     "end_time": "2023-06-30T13:27:51.209566800Z",
     "start_time": "2023-06-30T13:27:51.201947300Z"
    }
   }
  },
  {
   "cell_type": "code",
   "execution_count": 42,
   "outputs": [
    {
     "data": {
      "text/plain": "['kmeans.sav']"
     },
     "execution_count": 42,
     "metadata": {},
     "output_type": "execute_result"
    }
   ],
   "source": [
    "jl.dump(kmeans_model, \"kmeans.sav\")"
   ],
   "metadata": {
    "collapsed": false,
    "ExecuteTime": {
     "end_time": "2023-06-30T13:28:12.100128500Z",
     "start_time": "2023-06-30T13:28:12.006436200Z"
    }
   }
  },
  {
   "cell_type": "code",
   "execution_count": null,
   "outputs": [],
   "source": [],
   "metadata": {
    "collapsed": false
   }
  }
 ],
 "metadata": {
  "kernelspec": {
   "display_name": "Python 3",
   "language": "python",
   "name": "python3"
  },
  "language_info": {
   "codemirror_mode": {
    "name": "ipython",
    "version": 2
   },
   "file_extension": ".py",
   "mimetype": "text/x-python",
   "name": "python",
   "nbconvert_exporter": "python",
   "pygments_lexer": "ipython2",
   "version": "2.7.6"
  }
 },
 "nbformat": 4,
 "nbformat_minor": 0
}
